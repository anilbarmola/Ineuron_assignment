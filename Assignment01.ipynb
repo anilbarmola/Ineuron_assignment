{
 "cells": [
  {
   "cell_type": "markdown",
   "metadata": {},
   "source": [
    "<h2 style=\"color:red\"><b>Assignment_1</h2>\n",
    "<h4>1. In the below elements which of them are values or an expression? eg:- values can be\n",
    "integer or string and expressions will be mathematical operators.</h4>\n",
    "*\n",
    "'hello'\n",
    "<h5>-87.8</h5>\n",
    "-\n",
    "/\n",
    "+\n",
    "6"
   ]
  },
  {
   "cell_type": "markdown",
   "metadata": {},
   "source": [
    "*=expression<br>\n",
    "'hello'=values<br>\n",
    "-87.8=values<br>\n",
    "-=expression<br>\n",
    "/=expression<br>\n",
    "+=expression<br>\n",
    "6=values"
   ]
  },
  {
   "cell_type": "markdown",
   "metadata": {},
   "source": [
    "<h4>2. What is the difference between string and variable?</h4>\n",
    "\n",
    "ANS: STRING is a grup of latters where VARIABLE is a container that store valuse like number, charactor , boolean and float\n"
   ]
  },
  {
   "cell_type": "markdown",
   "metadata": {},
   "source": [
    "<h4>3. Describe three different data types.</h4>\n",
    "DATA TYPE: There are two types of Data Type<br>\n",
    "1.Primitive Data Types:Integers, Character  ,Boolean, float<br>\n",
    "2.Derived Data Types= Array, Pointer , Stack , Queue,union"
   ]
  },
  {
   "cell_type": "markdown",
   "metadata": {},
   "source": [
    "<h4>4. What is an expression made up of? What do all expressions do?</h4>\n",
    "ANS: An expression is an arrangement of values and operators which are evaluated\n",
    "to make a new value.expression used in interactive mode is evaluated by\n",
    "the interpreter and result is displayed instantly"
   ]
  },
  {
   "cell_type": "markdown",
   "metadata": {},
   "source": [
    "<h4>5. This assignment statements, like spam = 10. What is the difference between an\n",
    "expression and a statement?</h4>\n",
    "ANS:Assignment(=) Assigns values from rightside operands to left side operand, in above example spam=10 means spam have assingn the value which is equal to 10.<br>\n",
    "Where Expression is define the arrangment of all operatiors.\n",
    " \n"
   ]
  },
  {
   "cell_type": "markdown",
   "metadata": {},
   "source": [
    "<h4>6. After running the following code, what does the variable bacon contain?\n",
    "bacon = 22\n",
    "bacon + 1</h4>\n"
   ]
  },
  {
   "cell_type": "code",
   "execution_count": 1,
   "metadata": {},
   "outputs": [
    {
     "data": {
      "text/plain": [
       "23"
      ]
     },
     "execution_count": 1,
     "metadata": {},
     "output_type": "execute_result"
    }
   ],
   "source": [
    "bacon = 22\n",
    "bacon + 1"
   ]
  },
  {
   "cell_type": "markdown",
   "metadata": {},
   "source": [
    "7. What should the values of the following two terms be?<br>\n",
    "&#39;spam&#39; + &#39;spamspam&#39;<br>\n",
    "&#39;spam&#39; * 3"
   ]
  },
  {
   "cell_type": "code",
   "execution_count": 2,
   "metadata": {},
   "outputs": [
    {
     "data": {
      "text/plain": [
       "'spamspamspam'"
      ]
     },
     "execution_count": 2,
     "metadata": {},
     "output_type": "execute_result"
    }
   ],
   "source": [
    "'spam'+'spamspam'\n",
    "'spam'*3"
   ]
  },
  {
   "cell_type": "markdown",
   "metadata": {},
   "source": [
    "<h4>8. Why is eggs a valid variable name while 100 is invalid?</h4>\n",
    "ANS:Variable names can be arbitrarily long. They can contain both letters and\n",
    "numbers, but they cannot start with a number.\n"
   ]
  },
  {
   "cell_type": "markdown",
   "metadata": {},
   "source": [
    "<H4>9. What three functions can be used to get the integer, floating-point number, or string\n",
    "version of a value?</H4>\n",
    "ANS:The int() , float() , and str( ) functions will evaluate to the integer, floating-point number, and string versions of the value passed to them.\n"
   ]
  },
  {
   "cell_type": "markdown",
   "metadata": {},
   "source": [
    "<h4>10. Why does this expression cause an error? How can you fix it?\n",
    "&#39;I have eaten &#39; + 99 + &#39; burritos.&#39;</h4>\n",
    "ANS: We are trying to add string data type with int data type . so its showing error.\n",
    "we can only add same time of data type\n"
   ]
  },
  {
   "cell_type": "code",
   "execution_count": 6,
   "metadata": {},
   "outputs": [
    {
     "data": {
      "text/plain": [
       "'i have eaten 99 burritos'"
      ]
     },
     "execution_count": 6,
     "metadata": {},
     "output_type": "execute_result"
    }
   ],
   "source": [
    "'i have eaten'+' 99 '+'burritos'#here i change 99 as string data type"
   ]
  },
  {
   "cell_type": "code",
   "execution_count": null,
   "metadata": {},
   "outputs": [],
   "source": []
  }
 ],
 "metadata": {
  "interpreter": {
   "hash": "63b2014fe923bc11fc1089a45e8d8d32d8530e11d1dfc98edf4ada9c05eba13b"
  },
  "kernelspec": {
   "display_name": "Python 3.10.2 64-bit",
   "language": "python",
   "name": "python3"
  },
  "language_info": {
   "codemirror_mode": {
    "name": "ipython",
    "version": 3
   },
   "file_extension": ".py",
   "mimetype": "text/x-python",
   "name": "python",
   "nbconvert_exporter": "python",
   "pygments_lexer": "ipython3",
   "version": "3.10.2"
  },
  "orig_nbformat": 4
 },
 "nbformat": 4,
 "nbformat_minor": 2
}
