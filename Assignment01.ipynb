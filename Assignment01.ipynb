{
 "cells": [
  {
   "cell_type": "markdown",
   "metadata": {},
   "source": [
    "<h2>Assignment_1</h2>\n",
    "<h4>1. In the below elements which of them are values or an expression? eg:- values can be\n",
    "integer or string and expressions will be mathematical operators.</h4>\n",
    "*\n",
    "'hello'\n",
    "<h5>-87.8</h5>\n",
    "-\n",
    "/\n",
    "+\n",
    "6"
   ]
  },
  {
   "cell_type": "markdown",
   "metadata": {},
   "source": [
    "*=expression<br>\n",
    "'hello'=values<br>\n",
    "-87.8=values<br>\n",
    "-=expression<br>\n",
    "/=expression<br>\n",
    "+=expression<br>\n",
    "6=values"
   ]
  },
  {
   "cell_type": "markdown",
   "metadata": {},
   "source": [
    "<h4>2. What is the difference between string and variable?</h4>\n",
    "\n",
    "ANS: STRING is a grup of latters where VARIABLE is a container that store valuse like number, charactor , boolean and float\n"
   ]
  },
  {
   "cell_type": "markdown",
   "metadata": {},
   "source": [
    "<h4>3. Describe three different data types.</h4>\n",
    "DATA TYPE: There are two types of Data Type\n",
    "1.Primitive Data Types:Integers, Charator ,Boolean, float\n",
    "2.Derived Data Types= Array, Pointer , Stack , Queue,union"
   ]
  },
  {
   "cell_type": "markdown",
   "metadata": {},
   "source": [
    "<h4>4. What is an expression made up of? What do all expressions do?</h4>\n",
    "ANS: expression are artimatic and logical operator, expression do calculation"
   ]
  },
  {
   "cell_type": "markdown",
   "metadata": {},
   "source": []
  }
 ],
 "metadata": {
  "language_info": {
   "name": "python"
  },
  "orig_nbformat": 4
 },
 "nbformat": 4,
 "nbformat_minor": 2
}
