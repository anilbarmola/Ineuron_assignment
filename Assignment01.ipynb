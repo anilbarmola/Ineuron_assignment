{
 "cells": [
  {
   "cell_type": "markdown",
   "metadata": {},
   "source": [
    "<h2><b>Assignment_1</h2>\n",
    "<h4>1. In the below elements which of them are values or an expression? eg:- values can be\n",
    "integer or string and expressions will be mathematical operators.</h4>\n",
    "*\n",
    "'hello'\n",
    "<h5>-87.8</h5>\n",
    "-\n",
    "/\n",
    "+\n",
    "6"
   ]
  },
  {
   "cell_type": "markdown",
   "metadata": {},
   "source": [
    "*=expression<br>\n",
    "'hello'=values<br>\n",
    "-87.8=values<br>\n",
    "-=expression<br>\n",
    "/=expression<br>\n",
    "+=expression<br>\n",
    "6=values"
   ]
  },
  {
   "cell_type": "markdown",
   "metadata": {},
   "source": [
    "<h4>2. What is the difference between string and variable?</h4>\n",
    "\n",
    "ANS: STRING is a grup of latters where VARIABLE is a container that store valuse like number, charactor , boolean and float\n"
   ]
  },
  {
   "cell_type": "markdown",
   "metadata": {},
   "source": [
    "<h4>3. Describe three different data types.</h4>\n",
    "DATA TYPE: There are two types of Data Type<br>\n",
    "1.Primitive Data Types:Integers, Character  ,Boolean, float<br>\n",
    "2.Derived Data Types= Array, Pointer , Stack , Queue,union"
   ]
  },
  {
   "cell_type": "markdown",
   "metadata": {},
   "source": [
    "<h4>4. What is an expression made up of? What do all expressions do?</h4>\n",
    "ANS: An expression is an arrangement of values and operators which are evaluated\n",
    "to make a new value.expression used in interactive mode is evaluated by\n",
    "the interpreter and result is displayed instantly"
   ]
  },
  {
   "cell_type": "markdown",
   "metadata": {},
   "source": [
    "<h4>5. This assignment statements, like spam = 10. What is the difference between an\n",
    "expression and a statement?</h4>\n",
    "ANS:Assignment(=) Assigns values from rightside operands to left side operand, in above example spam=10 means spam have assingn the value which is equal to 10.<br>\n",
    "Where Expression is define the arrangment of all operatiors.\n",
    " \n"
   ]
  },
  {
   "cell_type": "markdown",
   "metadata": {},
   "source": [
    "<h4>6. After running the following code, what does the variable bacon contain?\n",
    "bacon = 22\n",
    "bacon + 1</h4>"
   ]
  }
 ],
 "metadata": {
  "language_info": {
   "name": "python"
  },
  "orig_nbformat": 4
 },
 "nbformat": 4,
 "nbformat_minor": 2
}
