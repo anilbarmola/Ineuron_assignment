{
 "cells": [
  {
   "cell_type": "markdown",
   "metadata": {},
   "source": [
    "<h3 style=\"color:red\"><b>Assignment_03</h3>"
   ]
  },
  {
   "cell_type": "markdown",
   "metadata": {},
   "source": [
    "<h5>1. Why are functions advantageous to have in your programs?</h5>\n",
    "ANS:A function is a block of reusable code that is used to perform a specific action. The advantages of using functions:\n",
    "\n",
    "Reducing duplication of code,\n",
    "Decomposing complex problems into simpler pieces,\n",
    "Improving clarity of the code,\n",
    "Reuse of code,\n",
    "Information hiding,\n"
   ]
  },
  {
   "cell_type": "markdown",
   "metadata": {},
   "source": [
    "<H5>2. When does the code in a function run: when it&#39;s specified or when it&#39;s called?</H5>\n",
    "Ans:When a function is \"called\" the program \"leaves\" the current section of code and begins to execute the first line inside the function."
   ]
  },
  {
   "cell_type": "markdown",
   "metadata": {},
   "source": [
    "<h5>3. What statement creates a function?</h5>\n",
    "ANS:Declares the name, arguments, and code that form the body of a function procedure"
   ]
  },
  {
   "cell_type": "markdown",
   "metadata": {},
   "source": [
    "<H5>4. What is the difference between a function and a function call?</H5>\n",
    "ANS:A function is a block of code that does a particular operation and returns a result. It usually accepts inputs as parameters and returns a result. The parameters are not mandatory.<BR>\n",
    "A function call is the code used to pass control to a function."
   ]
  },
  {
   "cell_type": "code",
   "execution_count": 2,
   "metadata": {},
   "outputs": [
    {
     "name": "stdout",
     "output_type": "stream",
     "text": [
      "5\n"
     ]
    }
   ],
   "source": [
    "#Declare the function\n",
    "def add(a,b):\n",
    " print(a+ b)\n",
    "\n",
    "#call the function\n",
    "add(2,3)"
   ]
  },
  {
   "cell_type": "markdown",
   "metadata": {},
   "source": [
    "<h5>5. How many global scopes are there in a Python program? How many local scopes?</h5>\n",
    "ANS: There's only one global Python scope per program execution. This scope remains in existence until the program terminates and all its names are forgotten.<br>\n",
    "there are four type of scope in Python global scope, local scope, enclosed scope, and built-in scope"
   ]
  },
  {
   "cell_type": "markdown",
   "metadata": {},
   "source": [
    "<h5>6. What happens to variables in a local scope when the function call returns?</h5>\n",
    "ANS :A local variable becomes undefined after the function call completes"
   ]
  },
  {
   "cell_type": "markdown",
   "metadata": {},
   "source": [
    "<h5>7. What is the concept of a return value? Is it possible to have a return value in an expression?</h5>\n",
    "ANS: A return is a value that a function returns to the calling script or function when it completes its task. A return value can be any one of the four variable types: handle, integer, object, or string WE can not get return value in an expression .<br>\n",
    "we can return strings, lists, tuples, dictionaries, functions, classes, instances, user-defined objects, and even modules or packages."
   ]
  },
  {
   "cell_type": "markdown",
   "metadata": {},
   "source": [
    "<h5>8. If a function does not have a return statement, what is the return value of a call to that function?</h5>\n",
    "ANS:If no return statement appears in a function definition, control automatically returns to the calling function after the last statement of the called function is executed. In this case, the return value of the called function is undefined."
   ]
  },
  {
   "cell_type": "markdown",
   "metadata": {},
   "source": [
    "<h5>9. How do you make a function variable refer to the global variable?</h5>\n",
    "ANS: If you want to refer to a global variable in a function, you can use the global keyword to declare which variables are global.\n"
   ]
  },
  {
   "cell_type": "code",
   "execution_count": 7,
   "metadata": {},
   "outputs": [
    {
     "name": "stdout",
     "output_type": "stream",
     "text": [
      "Python is fantastic\n"
     ]
    }
   ],
   "source": [
    "x = \"awesome\"\n",
    "\n",
    "def myfunc():\n",
    "  global x\n",
    "  x = \"fantastic\"\n",
    "\n",
    "myfunc()\n",
    "\n",
    "print(\"Python is \" + x)"
   ]
  },
  {
   "cell_type": "markdown",
   "metadata": {},
   "source": [
    "<h5>10. What is the data type of None?</h5>\n",
    "ANS: None is a data type of its own (NoneType)"
   ]
  },
  {
   "cell_type": "code",
   "execution_count": 8,
   "metadata": {},
   "outputs": [
    {
     "name": "stdout",
     "output_type": "stream",
     "text": [
      "<class 'NoneType'>\n"
     ]
    }
   ],
   "source": [
    "x=None\n",
    "print(type(x))"
   ]
  },
  {
   "cell_type": "markdown",
   "metadata": {},
   "source": [
    "<h5>11. What does the sentence import areallyourpetsnamederic do?</h5>\n",
    "ANS: That import statement imports a module named areallyourpetsnamederic."
   ]
  },
  {
   "cell_type": "markdown",
   "metadata": {},
   "source": [
    "<h5>12. If you had a bacon() feature in a spam module, what would you call it after importing spam?</h5>\n",
    "ANS : Spam.bacon()"
   ]
  },
  {
   "cell_type": "markdown",
   "metadata": {},
   "source": [
    "<h5>13. What can you do to save a programme from crashing if it encounters an error?</h5>\n",
    "ANS : Place the line of code that might cause an error in a try clause."
   ]
  },
  {
   "cell_type": "markdown",
   "metadata": {},
   "source": [
    "<H5>14. What is the purpose of the try clause? What is the purpose of the except clause?</H5>\n",
    "ANS: The code that could potentially cause an error goes in the try clause.\n",
    "\n",
    "The code that executes if an error happens goes in the except clause"
   ]
  },
  {
   "cell_type": "markdown",
   "metadata": {},
   "source": []
  }
 ],
 "metadata": {
  "interpreter": {
   "hash": "63b2014fe923bc11fc1089a45e8d8d32d8530e11d1dfc98edf4ada9c05eba13b"
  },
  "kernelspec": {
   "display_name": "Python 3.10.2 64-bit",
   "language": "python",
   "name": "python3"
  },
  "language_info": {
   "codemirror_mode": {
    "name": "ipython",
    "version": 3
   },
   "file_extension": ".py",
   "mimetype": "text/x-python",
   "name": "python",
   "nbconvert_exporter": "python",
   "pygments_lexer": "ipython3",
   "version": "3.10.2"
  },
  "orig_nbformat": 4
 },
 "nbformat": 4,
 "nbformat_minor": 2
}
