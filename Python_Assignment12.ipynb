{
 "cells": [
  {
   "cell_type": "markdown",
   "metadata": {},
   "source": [
    "\n",
    "<h3 style=\"color:red\"><b>Assignment_12\n",
    "</h3>"
   ]
  },
  {
   "cell_type": "markdown",
   "metadata": {},
   "source": [
    "<h5>1. In what modes should the PdfFileReader() and PdfFileWriter() File objects will be opened?</h5>\n",
    "ANS: Read Only ('r') : Open text file for reading. ...<br>\n",
    "Read and Write ('r+') : Open the file for reading and writing. ...<br>\n",
    "Write Only ('w') : Open the file for writing."
   ]
  },
  {
   "cell_type": "markdown",
   "metadata": {},
   "source": [
    "<h5>2. From a PdfFileReader object, how do you get a Page object for page 5?</h5>\n",
    "ANS:Calling getPage(4) will return a Page object for About this Book, since page 0 is the first page."
   ]
  },
  {
   "cell_type": "markdown",
   "metadata": {},
   "source": [
    "<h5>3. What PdfFileReader variable stores the number of pages in the PDF document?</h5>\n",
    "ANS: The numPages variable stores an integer of the number of pages in the PdfFileReader object."
   ]
  },
  {
   "cell_type": "markdown",
   "metadata": {},
   "source": [
    "<h5>4. If a PdfFileReader object’s PDF is encrypted with the password swordfish, what must you do\n",
    "before you can obtain Page objects from it?</h5>\n",
    "ANS:Call decrypt('swordfish')"
   ]
  },
  {
   "cell_type": "markdown",
   "metadata": {},
   "source": [
    "<h5>5. What methods do you use to rotate a page?</h5>\n",
    "ANS:import pyPDF2 <BR>\n",
    "and than call   page.rotateClockwise(180)"
   ]
  },
  {
   "cell_type": "markdown",
   "metadata": {},
   "source": [
    "<h5></h5>"
   ]
  },
  {
   "cell_type": "code",
   "execution_count": null,
   "metadata": {},
   "outputs": [],
   "source": [
    "import PyPDF2\n",
    "\n",
    "with open('Python_Tutorial.pdf', 'rb') as pdf_file:\n",
    "    pdf_reader = PyPDF2.PdfFileReader(pdf_file)\n",
    "    pdf_writer = PyPDF2.PdfFileWriter()\n",
    "\n",
    "    for page_num in range(pdf_reader.numPages):\n",
    "        pdf_page = pdf_reader.getPage(page_num)\n",
    "        pdf_page.rotateClockwise(90)  # rotateCounterClockwise()\n",
    "\n",
    "        pdf_writer.addPage(pdf_page)\n",
    "\n",
    "    with open('Python_Tutorial_rotated.pdf', 'wb') as pdf_file_rotated:\n",
    "        pdf_writer.write(pdf_file_rotated)"
   ]
  },
  {
   "cell_type": "markdown",
   "metadata": {},
   "source": [
    "<h5>6. What is the difference between a Run object and a Paragraph object?</h5>\n",
    "ANS:A run is the object most closely associated with inline content; text, pictures, and other items that are flowed between the block-item boundaries within a paragraph. <BR>\n",
    "The ParagraphFormat object providing access to the formatting properties for this paragraph, such as line spacing and indentation.\n"
   ]
  },
  {
   "cell_type": "markdown",
   "metadata": {},
   "source": [
    "<h5>7. How do you obtain a list of Paragraph objects for a Document object that’s stored in a variable\n",
    "named doc?</h5>\n",
    "ans:>>> import docx\n",
    "❶ >>> doc = docx.Document('demo.docx')<br>\n",
    "❷ >>> len(doc.paragraphs)<br>\n",
    "   7\n",
    "❸ >>> doc.paragraphs[0].text<br>\n",
    "   'Document Title'<br>\n",
    "❹ >>> doc.paragraphs[1].text<br>\n",
    "   'A plain paragraph with some bold and some italic'<br>\n",
    "❺ >>> len(doc.paragraphs[1].runs)<br>\n",
    "   4<br>\n",
    "❻ >>> doc.paragraphs[1].runs[0].text<br>\n",
    "   'A plain paragraph with some '<br>\n",
    "❼ >>> doc.paragraphs[1].runs[1].text<br>\n",
    "   'bold'<br>\n",
    "❽ >>> doc.paragraphs[1].runs[2].text<br>\n",
    "   ' and some '<br>\n",
    "➒ >>> doc.paragraphs[1].runs[3].text<br>\n",
    "   'italic'<br>"
   ]
  },
  {
   "cell_type": "markdown",
   "metadata": {},
   "source": [
    "<h5>9. What is the difference between False, True, and None for the bold variable?</h5>\n",
    "ANS:None has nothing to do with the boolean value False. None in Python is actually an object implemented by NoneType class. False is a boolean object implemented by the bool class."
   ]
  },
  {
   "cell_type": "markdown",
   "metadata": {},
   "source": [
    "<h5>10. How do you create a Document object for a new Word document?</h5>"
   ]
  },
  {
   "cell_type": "code",
   "execution_count": null,
   "metadata": {},
   "outputs": [],
   "source": [
    "# import docx NOT python-docx\n",
    "import docx\n",
    "  \n",
    "# create an instance of a word document\n",
    "doc = docx.Document()\n"
   ]
  },
  {
   "cell_type": "markdown",
   "metadata": {},
   "source": [
    "<h5>11. How do you add a paragraph with the text &#39;Hello, there!&#39; to a Document object stored in a\n",
    "variable named doc?</h5>\n",
    "ANS: doc.add_paragraph('Hello there!')"
   ]
  },
  {
   "cell_type": "markdown",
   "metadata": {},
   "source": [
    "<H5>12. What integers represent the levels of headings available in Word documents?</H5>\n",
    "ANS:The integers 0,1,2,3, and 4                                                                                                                                                                                                                                                                                                                                                                                                                                                                    "
   ]
  },
  {
   "cell_type": "markdown",
   "metadata": {},
   "source": []
  }
 ],
 "metadata": {
  "interpreter": {
   "hash": "c19fa61d258bb2b35aae2ada233c33e2817c1ce895aa48acba720c6bf7cbe3cb"
  },
  "kernelspec": {
   "display_name": "Python 3.10.2 64-bit",
   "language": "python",
   "name": "python3"
  },
  "language_info": {
   "codemirror_mode": {
    "name": "ipython",
    "version": 3
   },
   "file_extension": ".py",
   "mimetype": "text/x-python",
   "name": "python",
   "nbconvert_exporter": "python",
   "pygments_lexer": "ipython3",
   "version": "3.10.2"
  },
  "orig_nbformat": 4
 },
 "nbformat": 4,
 "nbformat_minor": 2
}
