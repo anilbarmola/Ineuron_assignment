{
 "cells": [
  {
   "cell_type": "markdown",
   "metadata": {},
   "source": [
    "\n",
    "<h3 style=\"color:red\"><b>Assignment_20\n",
    "</h3>"
   ]
  },
  {
   "cell_type": "markdown",
   "metadata": {},
   "source": [
    "<h5>1. Set the variable test1 to the string &#39;This is a test of the emergency text system,&#39; and save test1 to a\n",
    "file named test.txt.</h5>"
   ]
  },
  {
   "cell_type": "code",
   "execution_count": 3,
   "metadata": {},
   "outputs": [
    {
     "data": {
      "text/plain": [
       "44"
      ]
     },
     "execution_count": 3,
     "metadata": {},
     "output_type": "execute_result"
    }
   ],
   "source": [
    "test1 = \"This is a test of the emergency text system,\"\n",
    "filee = open('test.txt','w')\n",
    "filee.write(test1)"
   ]
  },
  {
   "cell_type": "markdown",
   "metadata": {},
   "source": [
    "<h5>2. Read the contents of the file test.txt into the variable test2. Is there a difference between test 1\n",
    "and test 2?</h5>"
   ]
  },
  {
   "cell_type": "code",
   "execution_count": 4,
   "metadata": {},
   "outputs": [
    {
     "data": {
      "text/plain": [
       "'This is a test of the emergency text system,'"
      ]
     },
     "execution_count": 4,
     "metadata": {},
     "output_type": "execute_result"
    }
   ],
   "source": [
    "file2 = open('test.txt','r')\n",
    "test2 = file2.readline()\n",
    "test2"
   ]
  },
  {
   "cell_type": "markdown",
   "metadata": {},
   "source": [
    "<h5>3. Create a CSV file called books.csv by using these lines:\n",
    "title,author,year\n",
    "The Weirdstone of Brisingamen,Alan Garner,1960\n",
    "Perdido Street Station,China Miéville,2000\n",
    "Thud!,Terry Pratchett,2005\n",
    "The Spellman Files,Lisa Lutz,2007\n",
    "Small Gods,Terry Pratchett,1992</h5>"
   ]
  },
  {
   "cell_type": "code",
   "execution_count": 5,
   "metadata": {},
   "outputs": [],
   "source": [
    "import csv\n",
    "rows =[ ['title','author','year'],\n",
    "    ['The Weirdstone of Brisingamen','Alan Garner',1960],\n",
    "    ['Perdido Street Station','China Miéville',2000],\n",
    "    ['Thud!','Terry Pratchett',2005],\n",
    "    ['The Spellman Files','Lisa Lutz',2007],\n",
    "    ['Small Gods','Terry Pratchett',1992]]\n",
    "with open('books.csv','w',newline='') as file:\n",
    "    writer = csv.writer(file)\n",
    "    writer.writerows(rows)"
   ]
  },
  {
   "cell_type": "markdown",
   "metadata": {},
   "source": [
    "<h5>4. Use the sqlite3 module to create a SQLite database called books.db, and a table called books with\n",
    "these fields: title (text), author (text), and year (integer).</h5>"
   ]
  },
  {
   "cell_type": "code",
   "execution_count": 6,
   "metadata": {},
   "outputs": [],
   "source": [
    "import sqlite3\n",
    "conn = sqlite3.connect('books.db')\n",
    "c = conn.cursor()\n",
    "\n",
    "c.execute('create table books(title varchar(20),author varchar(20), year int)')\n",
    "conn.commit()"
   ]
  },
  {
   "cell_type": "markdown",
   "metadata": {},
   "source": [
    "<h5>5. Read books.csv and insert its data into the book table.</h5>"
   ]
  },
  {
   "cell_type": "code",
   "execution_count": 7,
   "metadata": {},
   "outputs": [
    {
     "data": {
      "text/plain": [
       "5"
      ]
     },
     "execution_count": 7,
     "metadata": {},
     "output_type": "execute_result"
    }
   ],
   "source": [
    "import pandas as pd\n",
    "\n",
    "read_books = pd.read_csv('books.csv',encoding='unicode_escape')\n",
    "read_books.to_sql('books', conn, if_exists='append', index = False)"
   ]
  },
  {
   "cell_type": "markdown",
   "metadata": {},
   "source": [
    "<h5>6. Select and print the title column from the book table in alphabetical order.</h5>"
   ]
  },
  {
   "cell_type": "code",
   "execution_count": 8,
   "metadata": {},
   "outputs": [
    {
     "name": "stdout",
     "output_type": "stream",
     "text": [
      "[('Perdido Street Station',), ('Small Gods',), ('The Spellman Files',), ('The Weirdstone of Brisingamen',), ('Thud!',)]\n"
     ]
    }
   ],
   "source": [
    "c.execute('select title from books order by title asc')\n",
    "print(c.fetchall())"
   ]
  },
  {
   "cell_type": "markdown",
   "metadata": {},
   "source": [
    "<h5>7. From the book table, select and print all columns in the order of publication.</h5>"
   ]
  },
  {
   "cell_type": "code",
   "execution_count": 9,
   "metadata": {},
   "outputs": [
    {
     "data": {
      "text/html": [
       "<div>\n",
       "<style scoped>\n",
       "    .dataframe tbody tr th:only-of-type {\n",
       "        vertical-align: middle;\n",
       "    }\n",
       "\n",
       "    .dataframe tbody tr th {\n",
       "        vertical-align: top;\n",
       "    }\n",
       "\n",
       "    .dataframe thead th {\n",
       "        text-align: right;\n",
       "    }\n",
       "</style>\n",
       "<table border=\"1\" class=\"dataframe\">\n",
       "  <thead>\n",
       "    <tr style=\"text-align: right;\">\n",
       "      <th></th>\n",
       "      <th>title</th>\n",
       "      <th>author</th>\n",
       "      <th>year</th>\n",
       "    </tr>\n",
       "  </thead>\n",
       "  <tbody>\n",
       "    <tr>\n",
       "      <th>0</th>\n",
       "      <td>The Weirdstone of Brisingamen</td>\n",
       "      <td>Alan Garner</td>\n",
       "      <td>1960</td>\n",
       "    </tr>\n",
       "    <tr>\n",
       "      <th>1</th>\n",
       "      <td>Small Gods</td>\n",
       "      <td>Terry Pratchett</td>\n",
       "      <td>1992</td>\n",
       "    </tr>\n",
       "    <tr>\n",
       "      <th>2</th>\n",
       "      <td>Perdido Street Station</td>\n",
       "      <td>China Miéville</td>\n",
       "      <td>2000</td>\n",
       "    </tr>\n",
       "    <tr>\n",
       "      <th>3</th>\n",
       "      <td>Thud!</td>\n",
       "      <td>Terry Pratchett</td>\n",
       "      <td>2005</td>\n",
       "    </tr>\n",
       "    <tr>\n",
       "      <th>4</th>\n",
       "      <td>The Spellman Files</td>\n",
       "      <td>Lisa Lutz</td>\n",
       "      <td>2007</td>\n",
       "    </tr>\n",
       "  </tbody>\n",
       "</table>\n",
       "</div>"
      ],
      "text/plain": [
       "                           title           author  year\n",
       "0  The Weirdstone of Brisingamen      Alan Garner  1960\n",
       "1                     Small Gods  Terry Pratchett  1992\n",
       "2         Perdido Street Station   China Miéville  2000\n",
       "3                          Thud!  Terry Pratchett  2005\n",
       "4             The Spellman Files        Lisa Lutz  2007"
      ]
     },
     "execution_count": 9,
     "metadata": {},
     "output_type": "execute_result"
    }
   ],
   "source": [
    "c.execute('select title, author,year from books order by year')\n",
    "\n",
    "\n",
    "df = pd.DataFrame(c.fetchall(), columns=['title','author','year'])\n",
    "df"
   ]
  },
  {
   "cell_type": "markdown",
   "metadata": {},
   "source": [
    "<h5>8. Use the sqlalchemy module to connect to the sqlite3 database books.db that you just made in\n",
    "exercise 6.</h5>"
   ]
  },
  {
   "cell_type": "code",
   "execution_count": 11,
   "metadata": {},
   "outputs": [
    {
     "name": "stdout",
     "output_type": "stream",
     "text": [
      "Defaulting to user installation because normal site-packages is not writeable\n",
      "Collecting sqlalchemy\n",
      "  Downloading SQLAlchemy-1.4.36-cp310-cp310-win_amd64.whl (1.6 MB)\n",
      "     ---------------------------------------- 1.6/1.6 MB 105.0 kB/s eta 0:00:00\n",
      "Collecting greenlet!=0.4.17\n",
      "  Downloading greenlet-1.1.2-cp310-cp310-win_amd64.whl (101 kB)\n",
      "     ------------------------------------ 102.0/102.0 KB 177.8 kB/s eta 0:00:00\n",
      "Installing collected packages: greenlet, sqlalchemy\n",
      "Successfully installed greenlet-1.1.2 sqlalchemy-1.4.36\n"
     ]
    },
    {
     "name": "stderr",
     "output_type": "stream",
     "text": [
      "WARNING: You are using pip version 22.0.4; however, version 22.1.1 is available.\n",
      "You should consider upgrading via the 'C:\\Program Files\\Python310\\python.exe -m pip install --upgrade pip' command.\n"
     ]
    }
   ],
   "source": [
    "!pip install sqlalchemy"
   ]
  },
  {
   "cell_type": "code",
   "execution_count": 12,
   "metadata": {},
   "outputs": [
    {
     "name": "stdout",
     "output_type": "stream",
     "text": [
      "('The Weirdstone of Brisingamen', 'Alan Garner', 1960)\n",
      "('Perdido Street Station', 'China Miéville', 2000)\n",
      "('Thud!', 'Terry Pratchett', 2005)\n",
      "('The Spellman Files', 'Lisa Lutz', 2007)\n",
      "('Small Gods', 'Terry Pratchett', 1992)\n"
     ]
    }
   ],
   "source": [
    "import sqlalchemy\n",
    "engine = sqlalchemy.create_engine(\"sqlite:///books.db\")\n",
    "rows = engine.execute('select * from books')\n",
    "for i in rows:\n",
    "    print(i)"
   ]
  },
  {
   "cell_type": "markdown",
   "metadata": {},
   "source": [
    "<h5>9. Install the Redis server and the Python redis library (pip install redis) on your computer. Create a\n",
    "Redis hash called test with the fields count (1) and name (&#39;Fester Bestertester&#39;). Print all the fields for\n",
    "test.</h5>"
   ]
  },
  {
   "cell_type": "code",
   "execution_count": 19,
   "metadata": {},
   "outputs": [
    {
     "name": "stdout",
     "output_type": "stream",
     "text": [
      "Defaulting to user installation because normal site-packages is not writeable"
     ]
    },
    {
     "name": "stderr",
     "output_type": "stream",
     "text": [
      "WARNING: You are using pip version 22.0.4; however, version 22.1.1 is available.\n",
      "You should consider upgrading via the 'C:\\Program Files\\Python310\\python.exe -m pip install --upgrade pip' command.\n"
     ]
    },
    {
     "name": "stdout",
     "output_type": "stream",
     "text": [
      "\n",
      "Requirement already satisfied: redis in c:\\users\\anil\\appdata\\roaming\\python\\python310\\site-packages (4.3.1)\n",
      "Requirement already satisfied: async-timeout>=4.0.2 in c:\\users\\anil\\appdata\\roaming\\python\\python310\\site-packages (from redis) (4.0.2)\n",
      "Requirement already satisfied: deprecated>=1.2.3 in c:\\users\\anil\\appdata\\roaming\\python\\python310\\site-packages (from redis) (1.2.13)\n",
      "Requirement already satisfied: packaging>=20.4 in c:\\users\\anil\\appdata\\roaming\\python\\python310\\site-packages (from redis) (21.3)\n",
      "Requirement already satisfied: wrapt<2,>=1.10 in c:\\users\\anil\\appdata\\roaming\\python\\python310\\site-packages (from deprecated>=1.2.3->redis) (1.14.1)\n",
      "Requirement already satisfied: pyparsing!=3.0.5,>=2.0.2 in c:\\users\\anil\\appdata\\roaming\\python\\python310\\site-packages (from packaging>=20.4->redis) (3.0.8)\n"
     ]
    }
   ],
   "source": [
    "!pip install redis"
   ]
  },
  {
   "cell_type": "code",
   "execution_count": 20,
   "metadata": {},
   "outputs": [
    {
     "ename": "ConnectionError",
     "evalue": "Error 10061 connecting to localhost:6379. No connection could be made because the target machine actively refused it.",
     "output_type": "error",
     "traceback": [
      "\u001b[1;31m---------------------------------------------------------------------------\u001b[0m",
      "\u001b[1;31mConnectionRefusedError\u001b[0m                    Traceback (most recent call last)",
      "File \u001b[1;32m~\\AppData\\Roaming\\Python\\Python310\\site-packages\\redis\\connection.py:614\u001b[0m, in \u001b[0;36mConnection.connect\u001b[1;34m(self)\u001b[0m\n\u001b[0;32m    <a href='file:///c%3A/Users/anil/AppData/Roaming/Python/Python310/site-packages/redis/connection.py?line=612'>613</a>\u001b[0m \u001b[39mtry\u001b[39;00m:\n\u001b[1;32m--> <a href='file:///c%3A/Users/anil/AppData/Roaming/Python/Python310/site-packages/redis/connection.py?line=613'>614</a>\u001b[0m     sock \u001b[39m=\u001b[39m \u001b[39mself\u001b[39;49m\u001b[39m.\u001b[39;49mretry\u001b[39m.\u001b[39;49mcall_with_retry(\n\u001b[0;32m    <a href='file:///c%3A/Users/anil/AppData/Roaming/Python/Python310/site-packages/redis/connection.py?line=614'>615</a>\u001b[0m         \u001b[39mlambda\u001b[39;49;00m: \u001b[39mself\u001b[39;49m\u001b[39m.\u001b[39;49m_connect(), \u001b[39mlambda\u001b[39;49;00m error: \u001b[39mself\u001b[39;49m\u001b[39m.\u001b[39;49mdisconnect(error)\n\u001b[0;32m    <a href='file:///c%3A/Users/anil/AppData/Roaming/Python/Python310/site-packages/redis/connection.py?line=615'>616</a>\u001b[0m     )\n\u001b[0;32m    <a href='file:///c%3A/Users/anil/AppData/Roaming/Python/Python310/site-packages/redis/connection.py?line=616'>617</a>\u001b[0m \u001b[39mexcept\u001b[39;00m socket\u001b[39m.\u001b[39mtimeout:\n",
      "File \u001b[1;32m~\\AppData\\Roaming\\Python\\Python310\\site-packages\\redis\\retry.py:46\u001b[0m, in \u001b[0;36mRetry.call_with_retry\u001b[1;34m(self, do, fail)\u001b[0m\n\u001b[0;32m     <a href='file:///c%3A/Users/anil/AppData/Roaming/Python/Python310/site-packages/redis/retry.py?line=44'>45</a>\u001b[0m \u001b[39mtry\u001b[39;00m:\n\u001b[1;32m---> <a href='file:///c%3A/Users/anil/AppData/Roaming/Python/Python310/site-packages/redis/retry.py?line=45'>46</a>\u001b[0m     \u001b[39mreturn\u001b[39;00m do()\n\u001b[0;32m     <a href='file:///c%3A/Users/anil/AppData/Roaming/Python/Python310/site-packages/redis/retry.py?line=46'>47</a>\u001b[0m \u001b[39mexcept\u001b[39;00m \u001b[39mself\u001b[39m\u001b[39m.\u001b[39m_supported_errors \u001b[39mas\u001b[39;00m error:\n",
      "File \u001b[1;32m~\\AppData\\Roaming\\Python\\Python310\\site-packages\\redis\\connection.py:615\u001b[0m, in \u001b[0;36mConnection.connect.<locals>.<lambda>\u001b[1;34m()\u001b[0m\n\u001b[0;32m    <a href='file:///c%3A/Users/anil/AppData/Roaming/Python/Python310/site-packages/redis/connection.py?line=612'>613</a>\u001b[0m \u001b[39mtry\u001b[39;00m:\n\u001b[0;32m    <a href='file:///c%3A/Users/anil/AppData/Roaming/Python/Python310/site-packages/redis/connection.py?line=613'>614</a>\u001b[0m     sock \u001b[39m=\u001b[39m \u001b[39mself\u001b[39m\u001b[39m.\u001b[39mretry\u001b[39m.\u001b[39mcall_with_retry(\n\u001b[1;32m--> <a href='file:///c%3A/Users/anil/AppData/Roaming/Python/Python310/site-packages/redis/connection.py?line=614'>615</a>\u001b[0m         \u001b[39mlambda\u001b[39;00m: \u001b[39mself\u001b[39;49m\u001b[39m.\u001b[39;49m_connect(), \u001b[39mlambda\u001b[39;00m error: \u001b[39mself\u001b[39m\u001b[39m.\u001b[39mdisconnect(error)\n\u001b[0;32m    <a href='file:///c%3A/Users/anil/AppData/Roaming/Python/Python310/site-packages/redis/connection.py?line=615'>616</a>\u001b[0m     )\n\u001b[0;32m    <a href='file:///c%3A/Users/anil/AppData/Roaming/Python/Python310/site-packages/redis/connection.py?line=616'>617</a>\u001b[0m \u001b[39mexcept\u001b[39;00m socket\u001b[39m.\u001b[39mtimeout:\n",
      "File \u001b[1;32m~\\AppData\\Roaming\\Python\\Python310\\site-packages\\redis\\connection.py:680\u001b[0m, in \u001b[0;36mConnection._connect\u001b[1;34m(self)\u001b[0m\n\u001b[0;32m    <a href='file:///c%3A/Users/anil/AppData/Roaming/Python/Python310/site-packages/redis/connection.py?line=678'>679</a>\u001b[0m \u001b[39mif\u001b[39;00m err \u001b[39mis\u001b[39;00m \u001b[39mnot\u001b[39;00m \u001b[39mNone\u001b[39;00m:\n\u001b[1;32m--> <a href='file:///c%3A/Users/anil/AppData/Roaming/Python/Python310/site-packages/redis/connection.py?line=679'>680</a>\u001b[0m     \u001b[39mraise\u001b[39;00m err\n\u001b[0;32m    <a href='file:///c%3A/Users/anil/AppData/Roaming/Python/Python310/site-packages/redis/connection.py?line=680'>681</a>\u001b[0m \u001b[39mraise\u001b[39;00m \u001b[39mOSError\u001b[39;00m(\u001b[39m\"\u001b[39m\u001b[39msocket.getaddrinfo returned an empty list\u001b[39m\u001b[39m\"\u001b[39m)\n",
      "File \u001b[1;32m~\\AppData\\Roaming\\Python\\Python310\\site-packages\\redis\\connection.py:668\u001b[0m, in \u001b[0;36mConnection._connect\u001b[1;34m(self)\u001b[0m\n\u001b[0;32m    <a href='file:///c%3A/Users/anil/AppData/Roaming/Python/Python310/site-packages/redis/connection.py?line=666'>667</a>\u001b[0m \u001b[39m# connect\u001b[39;00m\n\u001b[1;32m--> <a href='file:///c%3A/Users/anil/AppData/Roaming/Python/Python310/site-packages/redis/connection.py?line=667'>668</a>\u001b[0m sock\u001b[39m.\u001b[39;49mconnect(socket_address)\n\u001b[0;32m    <a href='file:///c%3A/Users/anil/AppData/Roaming/Python/Python310/site-packages/redis/connection.py?line=669'>670</a>\u001b[0m \u001b[39m# set the socket_timeout now that we're connected\u001b[39;00m\n",
      "\u001b[1;31mConnectionRefusedError\u001b[0m: [WinError 10061] No connection could be made because the target machine actively refused it",
      "\nDuring handling of the above exception, another exception occurred:\n",
      "\u001b[1;31mConnectionError\u001b[0m                           Traceback (most recent call last)",
      "\u001b[1;32mc:\\Users\\anil\\OneDrive\\online course\\python\\Data science with Ineuron\\Assignment\\Python_Assignment20.ipynb Cell 21'\u001b[0m in \u001b[0;36m<cell line: 3>\u001b[1;34m()\u001b[0m\n\u001b[0;32m      <a href='vscode-notebook-cell:/c%3A/Users/anil/OneDrive/online%20course/python/Data%20science%20with%20Ineuron/Assignment/Python_Assignment20.ipynb#ch0000023?line=0'>1</a>\u001b[0m \u001b[39mimport\u001b[39;00m \u001b[39mredis\u001b[39;00m\n\u001b[0;32m      <a href='vscode-notebook-cell:/c%3A/Users/anil/OneDrive/online%20course/python/Data%20science%20with%20Ineuron/Assignment/Python_Assignment20.ipynb#ch0000023?line=1'>2</a>\u001b[0m conn \u001b[39m=\u001b[39m redis\u001b[39m.\u001b[39mRedis()\n\u001b[1;32m----> <a href='vscode-notebook-cell:/c%3A/Users/anil/OneDrive/online%20course/python/Data%20science%20with%20Ineuron/Assignment/Python_Assignment20.ipynb#ch0000023?line=2'>3</a>\u001b[0m conn\u001b[39m.\u001b[39;49mdelete(\u001b[39m'\u001b[39;49m\u001b[39mtest\u001b[39;49m\u001b[39m'\u001b[39;49m)\n\u001b[0;32m      <a href='vscode-notebook-cell:/c%3A/Users/anil/OneDrive/online%20course/python/Data%20science%20with%20Ineuron/Assignment/Python_Assignment20.ipynb#ch0000023?line=3'>4</a>\u001b[0m conn\u001b[39m.\u001b[39mhmset(\u001b[39m'\u001b[39m\u001b[39mtest\u001b[39m\u001b[39m'\u001b[39m, {\u001b[39m'\u001b[39m\u001b[39mcount\u001b[39m\u001b[39m'\u001b[39m: \u001b[39m1\u001b[39m, \u001b[39m'\u001b[39m\u001b[39mname\u001b[39m\u001b[39m'\u001b[39m: \u001b[39m'\u001b[39m\u001b[39mFester Bestertester\u001b[39m\u001b[39m'\u001b[39m})\n\u001b[0;32m      <a href='vscode-notebook-cell:/c%3A/Users/anil/OneDrive/online%20course/python/Data%20science%20with%20Ineuron/Assignment/Python_Assignment20.ipynb#ch0000023?line=4'>5</a>\u001b[0m conn\u001b[39m.\u001b[39mhgetall(\u001b[39m'\u001b[39m\u001b[39mtest\u001b[39m\u001b[39m'\u001b[39m)\n",
      "File \u001b[1;32m~\\AppData\\Roaming\\Python\\Python310\\site-packages\\redis\\commands\\core.py:1564\u001b[0m, in \u001b[0;36mBasicKeyCommands.delete\u001b[1;34m(self, *names)\u001b[0m\n\u001b[0;32m   <a href='file:///c%3A/Users/anil/AppData/Roaming/Python/Python310/site-packages/redis/commands/core.py?line=1559'>1560</a>\u001b[0m \u001b[39mdef\u001b[39;00m \u001b[39mdelete\u001b[39m(\u001b[39mself\u001b[39m, \u001b[39m*\u001b[39mnames: KeyT) \u001b[39m-\u001b[39m\u001b[39m>\u001b[39m ResponseT:\n\u001b[0;32m   <a href='file:///c%3A/Users/anil/AppData/Roaming/Python/Python310/site-packages/redis/commands/core.py?line=1560'>1561</a>\u001b[0m     \u001b[39m\"\"\"\u001b[39;00m\n\u001b[0;32m   <a href='file:///c%3A/Users/anil/AppData/Roaming/Python/Python310/site-packages/redis/commands/core.py?line=1561'>1562</a>\u001b[0m \u001b[39m    Delete one or more keys specified by ``names``\u001b[39;00m\n\u001b[0;32m   <a href='file:///c%3A/Users/anil/AppData/Roaming/Python/Python310/site-packages/redis/commands/core.py?line=1562'>1563</a>\u001b[0m \u001b[39m    \"\"\"\u001b[39;00m\n\u001b[1;32m-> <a href='file:///c%3A/Users/anil/AppData/Roaming/Python/Python310/site-packages/redis/commands/core.py?line=1563'>1564</a>\u001b[0m     \u001b[39mreturn\u001b[39;00m \u001b[39mself\u001b[39;49m\u001b[39m.\u001b[39;49mexecute_command(\u001b[39m\"\u001b[39;49m\u001b[39mDEL\u001b[39;49m\u001b[39m\"\u001b[39;49m, \u001b[39m*\u001b[39;49mnames)\n",
      "File \u001b[1;32m~\\AppData\\Roaming\\Python\\Python310\\site-packages\\redis\\client.py:1224\u001b[0m, in \u001b[0;36mRedis.execute_command\u001b[1;34m(self, *args, **options)\u001b[0m\n\u001b[0;32m   <a href='file:///c%3A/Users/anil/AppData/Roaming/Python/Python310/site-packages/redis/client.py?line=1221'>1222</a>\u001b[0m pool \u001b[39m=\u001b[39m \u001b[39mself\u001b[39m\u001b[39m.\u001b[39mconnection_pool\n\u001b[0;32m   <a href='file:///c%3A/Users/anil/AppData/Roaming/Python/Python310/site-packages/redis/client.py?line=1222'>1223</a>\u001b[0m command_name \u001b[39m=\u001b[39m args[\u001b[39m0\u001b[39m]\n\u001b[1;32m-> <a href='file:///c%3A/Users/anil/AppData/Roaming/Python/Python310/site-packages/redis/client.py?line=1223'>1224</a>\u001b[0m conn \u001b[39m=\u001b[39m \u001b[39mself\u001b[39m\u001b[39m.\u001b[39mconnection \u001b[39mor\u001b[39;00m pool\u001b[39m.\u001b[39mget_connection(command_name, \u001b[39m*\u001b[39m\u001b[39m*\u001b[39moptions)\n\u001b[0;32m   <a href='file:///c%3A/Users/anil/AppData/Roaming/Python/Python310/site-packages/redis/client.py?line=1225'>1226</a>\u001b[0m \u001b[39mtry\u001b[39;00m:\n\u001b[0;32m   <a href='file:///c%3A/Users/anil/AppData/Roaming/Python/Python310/site-packages/redis/client.py?line=1226'>1227</a>\u001b[0m     \u001b[39mreturn\u001b[39;00m conn\u001b[39m.\u001b[39mretry\u001b[39m.\u001b[39mcall_with_retry(\n\u001b[0;32m   <a href='file:///c%3A/Users/anil/AppData/Roaming/Python/Python310/site-packages/redis/client.py?line=1227'>1228</a>\u001b[0m         \u001b[39mlambda\u001b[39;00m: \u001b[39mself\u001b[39m\u001b[39m.\u001b[39m_send_command_parse_response(\n\u001b[0;32m   <a href='file:///c%3A/Users/anil/AppData/Roaming/Python/Python310/site-packages/redis/client.py?line=1228'>1229</a>\u001b[0m             conn, command_name, \u001b[39m*\u001b[39margs, \u001b[39m*\u001b[39m\u001b[39m*\u001b[39moptions\n\u001b[0;32m   <a href='file:///c%3A/Users/anil/AppData/Roaming/Python/Python310/site-packages/redis/client.py?line=1229'>1230</a>\u001b[0m         ),\n\u001b[0;32m   <a href='file:///c%3A/Users/anil/AppData/Roaming/Python/Python310/site-packages/redis/client.py?line=1230'>1231</a>\u001b[0m         \u001b[39mlambda\u001b[39;00m error: \u001b[39mself\u001b[39m\u001b[39m.\u001b[39m_disconnect_raise(conn, error),\n\u001b[0;32m   <a href='file:///c%3A/Users/anil/AppData/Roaming/Python/Python310/site-packages/redis/client.py?line=1231'>1232</a>\u001b[0m     )\n",
      "File \u001b[1;32m~\\AppData\\Roaming\\Python\\Python310\\site-packages\\redis\\connection.py:1392\u001b[0m, in \u001b[0;36mConnectionPool.get_connection\u001b[1;34m(self, command_name, *keys, **options)\u001b[0m\n\u001b[0;32m   <a href='file:///c%3A/Users/anil/AppData/Roaming/Python/Python310/site-packages/redis/connection.py?line=1387'>1388</a>\u001b[0m     \u001b[39mself\u001b[39m\u001b[39m.\u001b[39m_in_use_connections\u001b[39m.\u001b[39madd(connection)\n\u001b[0;32m   <a href='file:///c%3A/Users/anil/AppData/Roaming/Python/Python310/site-packages/redis/connection.py?line=1389'>1390</a>\u001b[0m \u001b[39mtry\u001b[39;00m:\n\u001b[0;32m   <a href='file:///c%3A/Users/anil/AppData/Roaming/Python/Python310/site-packages/redis/connection.py?line=1390'>1391</a>\u001b[0m     \u001b[39m# ensure this connection is connected to Redis\u001b[39;00m\n\u001b[1;32m-> <a href='file:///c%3A/Users/anil/AppData/Roaming/Python/Python310/site-packages/redis/connection.py?line=1391'>1392</a>\u001b[0m     connection\u001b[39m.\u001b[39;49mconnect()\n\u001b[0;32m   <a href='file:///c%3A/Users/anil/AppData/Roaming/Python/Python310/site-packages/redis/connection.py?line=1392'>1393</a>\u001b[0m     \u001b[39m# connections that the pool provides should be ready to send\u001b[39;00m\n\u001b[0;32m   <a href='file:///c%3A/Users/anil/AppData/Roaming/Python/Python310/site-packages/redis/connection.py?line=1393'>1394</a>\u001b[0m     \u001b[39m# a command. if not, the connection was either returned to the\u001b[39;00m\n\u001b[0;32m   <a href='file:///c%3A/Users/anil/AppData/Roaming/Python/Python310/site-packages/redis/connection.py?line=1394'>1395</a>\u001b[0m     \u001b[39m# pool before all data has been read or the socket has been\u001b[39;00m\n\u001b[0;32m   <a href='file:///c%3A/Users/anil/AppData/Roaming/Python/Python310/site-packages/redis/connection.py?line=1395'>1396</a>\u001b[0m     \u001b[39m# closed. either way, reconnect and verify everything is good.\u001b[39;00m\n\u001b[0;32m   <a href='file:///c%3A/Users/anil/AppData/Roaming/Python/Python310/site-packages/redis/connection.py?line=1396'>1397</a>\u001b[0m     \u001b[39mtry\u001b[39;00m:\n",
      "File \u001b[1;32m~\\AppData\\Roaming\\Python\\Python310\\site-packages\\redis\\connection.py:620\u001b[0m, in \u001b[0;36mConnection.connect\u001b[1;34m(self)\u001b[0m\n\u001b[0;32m    <a href='file:///c%3A/Users/anil/AppData/Roaming/Python/Python310/site-packages/redis/connection.py?line=617'>618</a>\u001b[0m     \u001b[39mraise\u001b[39;00m \u001b[39mTimeoutError\u001b[39;00m(\u001b[39m\"\u001b[39m\u001b[39mTimeout connecting to server\u001b[39m\u001b[39m\"\u001b[39m)\n\u001b[0;32m    <a href='file:///c%3A/Users/anil/AppData/Roaming/Python/Python310/site-packages/redis/connection.py?line=618'>619</a>\u001b[0m \u001b[39mexcept\u001b[39;00m \u001b[39mOSError\u001b[39;00m \u001b[39mas\u001b[39;00m e:\n\u001b[1;32m--> <a href='file:///c%3A/Users/anil/AppData/Roaming/Python/Python310/site-packages/redis/connection.py?line=619'>620</a>\u001b[0m     \u001b[39mraise\u001b[39;00m \u001b[39mConnectionError\u001b[39;00m(\u001b[39mself\u001b[39m\u001b[39m.\u001b[39m_error_message(e))\n\u001b[0;32m    <a href='file:///c%3A/Users/anil/AppData/Roaming/Python/Python310/site-packages/redis/connection.py?line=621'>622</a>\u001b[0m \u001b[39mself\u001b[39m\u001b[39m.\u001b[39m_sock \u001b[39m=\u001b[39m sock\n\u001b[0;32m    <a href='file:///c%3A/Users/anil/AppData/Roaming/Python/Python310/site-packages/redis/connection.py?line=622'>623</a>\u001b[0m \u001b[39mtry\u001b[39;00m:\n",
      "\u001b[1;31mConnectionError\u001b[0m: Error 10061 connecting to localhost:6379. No connection could be made because the target machine actively refused it."
     ]
    }
   ],
   "source": [
    "import redis\n",
    "conn = redis.Redis()\n",
    "conn.delete('test')\n",
    "conn.hmset('test', {'count': 1, 'name': 'Fester Bestertester'})\n",
    "conn.hgetall('test')"
   ]
  },
  {
   "cell_type": "markdown",
   "metadata": {},
   "source": [
    "<h5>10. Increment the count field of test and print it.</h5>"
   ]
  },
  {
   "cell_type": "code",
   "execution_count": 18,
   "metadata": {},
   "outputs": [
    {
     "ename": "ConnectionError",
     "evalue": "Error 10061 connecting to localhost:6379. No connection could be made because the target machine actively refused it.",
     "output_type": "error",
     "traceback": [
      "\u001b[1;31m---------------------------------------------------------------------------\u001b[0m",
      "\u001b[1;31mConnectionRefusedError\u001b[0m                    Traceback (most recent call last)",
      "File \u001b[1;32m~\\AppData\\Roaming\\Python\\Python310\\site-packages\\redis\\connection.py:614\u001b[0m, in \u001b[0;36mConnection.connect\u001b[1;34m(self)\u001b[0m\n\u001b[0;32m    <a href='file:///c%3A/Users/anil/AppData/Roaming/Python/Python310/site-packages/redis/connection.py?line=612'>613</a>\u001b[0m \u001b[39mtry\u001b[39;00m:\n\u001b[1;32m--> <a href='file:///c%3A/Users/anil/AppData/Roaming/Python/Python310/site-packages/redis/connection.py?line=613'>614</a>\u001b[0m     sock \u001b[39m=\u001b[39m \u001b[39mself\u001b[39;49m\u001b[39m.\u001b[39;49mretry\u001b[39m.\u001b[39;49mcall_with_retry(\n\u001b[0;32m    <a href='file:///c%3A/Users/anil/AppData/Roaming/Python/Python310/site-packages/redis/connection.py?line=614'>615</a>\u001b[0m         \u001b[39mlambda\u001b[39;49;00m: \u001b[39mself\u001b[39;49m\u001b[39m.\u001b[39;49m_connect(), \u001b[39mlambda\u001b[39;49;00m error: \u001b[39mself\u001b[39;49m\u001b[39m.\u001b[39;49mdisconnect(error)\n\u001b[0;32m    <a href='file:///c%3A/Users/anil/AppData/Roaming/Python/Python310/site-packages/redis/connection.py?line=615'>616</a>\u001b[0m     )\n\u001b[0;32m    <a href='file:///c%3A/Users/anil/AppData/Roaming/Python/Python310/site-packages/redis/connection.py?line=616'>617</a>\u001b[0m \u001b[39mexcept\u001b[39;00m socket\u001b[39m.\u001b[39mtimeout:\n",
      "File \u001b[1;32m~\\AppData\\Roaming\\Python\\Python310\\site-packages\\redis\\retry.py:46\u001b[0m, in \u001b[0;36mRetry.call_with_retry\u001b[1;34m(self, do, fail)\u001b[0m\n\u001b[0;32m     <a href='file:///c%3A/Users/anil/AppData/Roaming/Python/Python310/site-packages/redis/retry.py?line=44'>45</a>\u001b[0m \u001b[39mtry\u001b[39;00m:\n\u001b[1;32m---> <a href='file:///c%3A/Users/anil/AppData/Roaming/Python/Python310/site-packages/redis/retry.py?line=45'>46</a>\u001b[0m     \u001b[39mreturn\u001b[39;00m do()\n\u001b[0;32m     <a href='file:///c%3A/Users/anil/AppData/Roaming/Python/Python310/site-packages/redis/retry.py?line=46'>47</a>\u001b[0m \u001b[39mexcept\u001b[39;00m \u001b[39mself\u001b[39m\u001b[39m.\u001b[39m_supported_errors \u001b[39mas\u001b[39;00m error:\n",
      "File \u001b[1;32m~\\AppData\\Roaming\\Python\\Python310\\site-packages\\redis\\connection.py:615\u001b[0m, in \u001b[0;36mConnection.connect.<locals>.<lambda>\u001b[1;34m()\u001b[0m\n\u001b[0;32m    <a href='file:///c%3A/Users/anil/AppData/Roaming/Python/Python310/site-packages/redis/connection.py?line=612'>613</a>\u001b[0m \u001b[39mtry\u001b[39;00m:\n\u001b[0;32m    <a href='file:///c%3A/Users/anil/AppData/Roaming/Python/Python310/site-packages/redis/connection.py?line=613'>614</a>\u001b[0m     sock \u001b[39m=\u001b[39m \u001b[39mself\u001b[39m\u001b[39m.\u001b[39mretry\u001b[39m.\u001b[39mcall_with_retry(\n\u001b[1;32m--> <a href='file:///c%3A/Users/anil/AppData/Roaming/Python/Python310/site-packages/redis/connection.py?line=614'>615</a>\u001b[0m         \u001b[39mlambda\u001b[39;00m: \u001b[39mself\u001b[39;49m\u001b[39m.\u001b[39;49m_connect(), \u001b[39mlambda\u001b[39;00m error: \u001b[39mself\u001b[39m\u001b[39m.\u001b[39mdisconnect(error)\n\u001b[0;32m    <a href='file:///c%3A/Users/anil/AppData/Roaming/Python/Python310/site-packages/redis/connection.py?line=615'>616</a>\u001b[0m     )\n\u001b[0;32m    <a href='file:///c%3A/Users/anil/AppData/Roaming/Python/Python310/site-packages/redis/connection.py?line=616'>617</a>\u001b[0m \u001b[39mexcept\u001b[39;00m socket\u001b[39m.\u001b[39mtimeout:\n",
      "File \u001b[1;32m~\\AppData\\Roaming\\Python\\Python310\\site-packages\\redis\\connection.py:680\u001b[0m, in \u001b[0;36mConnection._connect\u001b[1;34m(self)\u001b[0m\n\u001b[0;32m    <a href='file:///c%3A/Users/anil/AppData/Roaming/Python/Python310/site-packages/redis/connection.py?line=678'>679</a>\u001b[0m \u001b[39mif\u001b[39;00m err \u001b[39mis\u001b[39;00m \u001b[39mnot\u001b[39;00m \u001b[39mNone\u001b[39;00m:\n\u001b[1;32m--> <a href='file:///c%3A/Users/anil/AppData/Roaming/Python/Python310/site-packages/redis/connection.py?line=679'>680</a>\u001b[0m     \u001b[39mraise\u001b[39;00m err\n\u001b[0;32m    <a href='file:///c%3A/Users/anil/AppData/Roaming/Python/Python310/site-packages/redis/connection.py?line=680'>681</a>\u001b[0m \u001b[39mraise\u001b[39;00m \u001b[39mOSError\u001b[39;00m(\u001b[39m\"\u001b[39m\u001b[39msocket.getaddrinfo returned an empty list\u001b[39m\u001b[39m\"\u001b[39m)\n",
      "File \u001b[1;32m~\\AppData\\Roaming\\Python\\Python310\\site-packages\\redis\\connection.py:668\u001b[0m, in \u001b[0;36mConnection._connect\u001b[1;34m(self)\u001b[0m\n\u001b[0;32m    <a href='file:///c%3A/Users/anil/AppData/Roaming/Python/Python310/site-packages/redis/connection.py?line=666'>667</a>\u001b[0m \u001b[39m# connect\u001b[39;00m\n\u001b[1;32m--> <a href='file:///c%3A/Users/anil/AppData/Roaming/Python/Python310/site-packages/redis/connection.py?line=667'>668</a>\u001b[0m sock\u001b[39m.\u001b[39;49mconnect(socket_address)\n\u001b[0;32m    <a href='file:///c%3A/Users/anil/AppData/Roaming/Python/Python310/site-packages/redis/connection.py?line=669'>670</a>\u001b[0m \u001b[39m# set the socket_timeout now that we're connected\u001b[39;00m\n",
      "\u001b[1;31mConnectionRefusedError\u001b[0m: [WinError 10061] No connection could be made because the target machine actively refused it",
      "\nDuring handling of the above exception, another exception occurred:\n",
      "\u001b[1;31mConnectionError\u001b[0m                           Traceback (most recent call last)",
      "\u001b[1;32mc:\\Users\\anil\\OneDrive\\online course\\python\\Data science with Ineuron\\Assignment\\Python_Assignment20.ipynb Cell 23'\u001b[0m in \u001b[0;36m<cell line: 1>\u001b[1;34m()\u001b[0m\n\u001b[1;32m----> <a href='vscode-notebook-cell:/c%3A/Users/anil/OneDrive/online%20course/python/Data%20science%20with%20Ineuron/Assignment/Python_Assignment20.ipynb#ch0000024?line=0'>1</a>\u001b[0m conn\u001b[39m.\u001b[39;49mhincrby(\u001b[39m'\u001b[39;49m\u001b[39mtest\u001b[39;49m\u001b[39m'\u001b[39;49m,\u001b[39m'\u001b[39;49m\u001b[39mcount\u001b[39;49m\u001b[39m'\u001b[39;49m, \u001b[39m3\u001b[39;49m)\n",
      "File \u001b[1;32m~\\AppData\\Roaming\\Python\\Python310\\site-packages\\redis\\commands\\core.py:4813\u001b[0m, in \u001b[0;36mHashCommands.hincrby\u001b[1;34m(self, name, key, amount)\u001b[0m\n\u001b[0;32m   <a href='file:///c%3A/Users/anil/AppData/Roaming/Python/Python310/site-packages/redis/commands/core.py?line=4804'>4805</a>\u001b[0m \u001b[39mdef\u001b[39;00m \u001b[39mhincrby\u001b[39m(\n\u001b[0;32m   <a href='file:///c%3A/Users/anil/AppData/Roaming/Python/Python310/site-packages/redis/commands/core.py?line=4805'>4806</a>\u001b[0m     \u001b[39mself\u001b[39m, name: \u001b[39mstr\u001b[39m, key: \u001b[39mstr\u001b[39m, amount: \u001b[39mint\u001b[39m \u001b[39m=\u001b[39m \u001b[39m1\u001b[39m\n\u001b[0;32m   <a href='file:///c%3A/Users/anil/AppData/Roaming/Python/Python310/site-packages/redis/commands/core.py?line=4806'>4807</a>\u001b[0m ) \u001b[39m-\u001b[39m\u001b[39m>\u001b[39m Union[Awaitable[\u001b[39mint\u001b[39m], \u001b[39mint\u001b[39m]:\n\u001b[0;32m   <a href='file:///c%3A/Users/anil/AppData/Roaming/Python/Python310/site-packages/redis/commands/core.py?line=4807'>4808</a>\u001b[0m     \u001b[39m\"\"\"\u001b[39;00m\n\u001b[0;32m   <a href='file:///c%3A/Users/anil/AppData/Roaming/Python/Python310/site-packages/redis/commands/core.py?line=4808'>4809</a>\u001b[0m \u001b[39m    Increment the value of ``key`` in hash ``name`` by ``amount``\u001b[39;00m\n\u001b[0;32m   <a href='file:///c%3A/Users/anil/AppData/Roaming/Python/Python310/site-packages/redis/commands/core.py?line=4809'>4810</a>\u001b[0m \n\u001b[0;32m   <a href='file:///c%3A/Users/anil/AppData/Roaming/Python/Python310/site-packages/redis/commands/core.py?line=4810'>4811</a>\u001b[0m \u001b[39m    For more information see https://redis.io/commands/hincrby\u001b[39;00m\n\u001b[0;32m   <a href='file:///c%3A/Users/anil/AppData/Roaming/Python/Python310/site-packages/redis/commands/core.py?line=4811'>4812</a>\u001b[0m \u001b[39m    \"\"\"\u001b[39;00m\n\u001b[1;32m-> <a href='file:///c%3A/Users/anil/AppData/Roaming/Python/Python310/site-packages/redis/commands/core.py?line=4812'>4813</a>\u001b[0m     \u001b[39mreturn\u001b[39;00m \u001b[39mself\u001b[39;49m\u001b[39m.\u001b[39;49mexecute_command(\u001b[39m\"\u001b[39;49m\u001b[39mHINCRBY\u001b[39;49m\u001b[39m\"\u001b[39;49m, name, key, amount)\n",
      "File \u001b[1;32m~\\AppData\\Roaming\\Python\\Python310\\site-packages\\redis\\client.py:1224\u001b[0m, in \u001b[0;36mRedis.execute_command\u001b[1;34m(self, *args, **options)\u001b[0m\n\u001b[0;32m   <a href='file:///c%3A/Users/anil/AppData/Roaming/Python/Python310/site-packages/redis/client.py?line=1221'>1222</a>\u001b[0m pool \u001b[39m=\u001b[39m \u001b[39mself\u001b[39m\u001b[39m.\u001b[39mconnection_pool\n\u001b[0;32m   <a href='file:///c%3A/Users/anil/AppData/Roaming/Python/Python310/site-packages/redis/client.py?line=1222'>1223</a>\u001b[0m command_name \u001b[39m=\u001b[39m args[\u001b[39m0\u001b[39m]\n\u001b[1;32m-> <a href='file:///c%3A/Users/anil/AppData/Roaming/Python/Python310/site-packages/redis/client.py?line=1223'>1224</a>\u001b[0m conn \u001b[39m=\u001b[39m \u001b[39mself\u001b[39m\u001b[39m.\u001b[39mconnection \u001b[39mor\u001b[39;00m pool\u001b[39m.\u001b[39mget_connection(command_name, \u001b[39m*\u001b[39m\u001b[39m*\u001b[39moptions)\n\u001b[0;32m   <a href='file:///c%3A/Users/anil/AppData/Roaming/Python/Python310/site-packages/redis/client.py?line=1225'>1226</a>\u001b[0m \u001b[39mtry\u001b[39;00m:\n\u001b[0;32m   <a href='file:///c%3A/Users/anil/AppData/Roaming/Python/Python310/site-packages/redis/client.py?line=1226'>1227</a>\u001b[0m     \u001b[39mreturn\u001b[39;00m conn\u001b[39m.\u001b[39mretry\u001b[39m.\u001b[39mcall_with_retry(\n\u001b[0;32m   <a href='file:///c%3A/Users/anil/AppData/Roaming/Python/Python310/site-packages/redis/client.py?line=1227'>1228</a>\u001b[0m         \u001b[39mlambda\u001b[39;00m: \u001b[39mself\u001b[39m\u001b[39m.\u001b[39m_send_command_parse_response(\n\u001b[0;32m   <a href='file:///c%3A/Users/anil/AppData/Roaming/Python/Python310/site-packages/redis/client.py?line=1228'>1229</a>\u001b[0m             conn, command_name, \u001b[39m*\u001b[39margs, \u001b[39m*\u001b[39m\u001b[39m*\u001b[39moptions\n\u001b[0;32m   <a href='file:///c%3A/Users/anil/AppData/Roaming/Python/Python310/site-packages/redis/client.py?line=1229'>1230</a>\u001b[0m         ),\n\u001b[0;32m   <a href='file:///c%3A/Users/anil/AppData/Roaming/Python/Python310/site-packages/redis/client.py?line=1230'>1231</a>\u001b[0m         \u001b[39mlambda\u001b[39;00m error: \u001b[39mself\u001b[39m\u001b[39m.\u001b[39m_disconnect_raise(conn, error),\n\u001b[0;32m   <a href='file:///c%3A/Users/anil/AppData/Roaming/Python/Python310/site-packages/redis/client.py?line=1231'>1232</a>\u001b[0m     )\n",
      "File \u001b[1;32m~\\AppData\\Roaming\\Python\\Python310\\site-packages\\redis\\connection.py:1392\u001b[0m, in \u001b[0;36mConnectionPool.get_connection\u001b[1;34m(self, command_name, *keys, **options)\u001b[0m\n\u001b[0;32m   <a href='file:///c%3A/Users/anil/AppData/Roaming/Python/Python310/site-packages/redis/connection.py?line=1387'>1388</a>\u001b[0m     \u001b[39mself\u001b[39m\u001b[39m.\u001b[39m_in_use_connections\u001b[39m.\u001b[39madd(connection)\n\u001b[0;32m   <a href='file:///c%3A/Users/anil/AppData/Roaming/Python/Python310/site-packages/redis/connection.py?line=1389'>1390</a>\u001b[0m \u001b[39mtry\u001b[39;00m:\n\u001b[0;32m   <a href='file:///c%3A/Users/anil/AppData/Roaming/Python/Python310/site-packages/redis/connection.py?line=1390'>1391</a>\u001b[0m     \u001b[39m# ensure this connection is connected to Redis\u001b[39;00m\n\u001b[1;32m-> <a href='file:///c%3A/Users/anil/AppData/Roaming/Python/Python310/site-packages/redis/connection.py?line=1391'>1392</a>\u001b[0m     connection\u001b[39m.\u001b[39;49mconnect()\n\u001b[0;32m   <a href='file:///c%3A/Users/anil/AppData/Roaming/Python/Python310/site-packages/redis/connection.py?line=1392'>1393</a>\u001b[0m     \u001b[39m# connections that the pool provides should be ready to send\u001b[39;00m\n\u001b[0;32m   <a href='file:///c%3A/Users/anil/AppData/Roaming/Python/Python310/site-packages/redis/connection.py?line=1393'>1394</a>\u001b[0m     \u001b[39m# a command. if not, the connection was either returned to the\u001b[39;00m\n\u001b[0;32m   <a href='file:///c%3A/Users/anil/AppData/Roaming/Python/Python310/site-packages/redis/connection.py?line=1394'>1395</a>\u001b[0m     \u001b[39m# pool before all data has been read or the socket has been\u001b[39;00m\n\u001b[0;32m   <a href='file:///c%3A/Users/anil/AppData/Roaming/Python/Python310/site-packages/redis/connection.py?line=1395'>1396</a>\u001b[0m     \u001b[39m# closed. either way, reconnect and verify everything is good.\u001b[39;00m\n\u001b[0;32m   <a href='file:///c%3A/Users/anil/AppData/Roaming/Python/Python310/site-packages/redis/connection.py?line=1396'>1397</a>\u001b[0m     \u001b[39mtry\u001b[39;00m:\n",
      "File \u001b[1;32m~\\AppData\\Roaming\\Python\\Python310\\site-packages\\redis\\connection.py:620\u001b[0m, in \u001b[0;36mConnection.connect\u001b[1;34m(self)\u001b[0m\n\u001b[0;32m    <a href='file:///c%3A/Users/anil/AppData/Roaming/Python/Python310/site-packages/redis/connection.py?line=617'>618</a>\u001b[0m     \u001b[39mraise\u001b[39;00m \u001b[39mTimeoutError\u001b[39;00m(\u001b[39m\"\u001b[39m\u001b[39mTimeout connecting to server\u001b[39m\u001b[39m\"\u001b[39m)\n\u001b[0;32m    <a href='file:///c%3A/Users/anil/AppData/Roaming/Python/Python310/site-packages/redis/connection.py?line=618'>619</a>\u001b[0m \u001b[39mexcept\u001b[39;00m \u001b[39mOSError\u001b[39;00m \u001b[39mas\u001b[39;00m e:\n\u001b[1;32m--> <a href='file:///c%3A/Users/anil/AppData/Roaming/Python/Python310/site-packages/redis/connection.py?line=619'>620</a>\u001b[0m     \u001b[39mraise\u001b[39;00m \u001b[39mConnectionError\u001b[39;00m(\u001b[39mself\u001b[39m\u001b[39m.\u001b[39m_error_message(e))\n\u001b[0;32m    <a href='file:///c%3A/Users/anil/AppData/Roaming/Python/Python310/site-packages/redis/connection.py?line=621'>622</a>\u001b[0m \u001b[39mself\u001b[39m\u001b[39m.\u001b[39m_sock \u001b[39m=\u001b[39m sock\n\u001b[0;32m    <a href='file:///c%3A/Users/anil/AppData/Roaming/Python/Python310/site-packages/redis/connection.py?line=622'>623</a>\u001b[0m \u001b[39mtry\u001b[39;00m:\n",
      "\u001b[1;31mConnectionError\u001b[0m: Error 10061 connecting to localhost:6379. No connection could be made because the target machine actively refused it."
     ]
    }
   ],
   "source": [
    "conn.hincrby('test','count', 3)\n"
   ]
  },
  {
   "cell_type": "markdown",
   "metadata": {},
   "source": []
  }
 ],
 "metadata": {
  "interpreter": {
   "hash": "26de051ba29f2982a8de78e945f0abaf191376122a1563185a90213a26c5da77"
  },
  "kernelspec": {
   "display_name": "Python 3.10.4 64-bit",
   "language": "python",
   "name": "python3"
  },
  "language_info": {
   "codemirror_mode": {
    "name": "ipython",
    "version": 3
   },
   "file_extension": ".py",
   "mimetype": "text/x-python",
   "name": "python",
   "nbconvert_exporter": "python",
   "pygments_lexer": "ipython3",
   "version": "3.10.4"
  },
  "orig_nbformat": 4
 },
 "nbformat": 4,
 "nbformat_minor": 2
}
