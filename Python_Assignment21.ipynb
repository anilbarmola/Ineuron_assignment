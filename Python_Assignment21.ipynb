{
 "cells": [
  {
   "cell_type": "markdown",
   "metadata": {},
   "source": [
    "\n",
    "<h3 style=\"color:red\"><b>Assignment_21\n",
    "</h3>"
   ]
  },
  {
   "cell_type": "markdown",
   "metadata": {},
   "source": [
    "<h5>1. Add the current date to the text file today.txt as a string.</h5>"
   ]
  },
  {
   "cell_type": "code",
   "execution_count": 3,
   "metadata": {},
   "outputs": [
    {
     "name": "stdout",
     "output_type": "stream",
     "text": [
      "Today's date: 2022-06-01\n"
     ]
    }
   ],
   "source": [
    "from datetime import date\n",
    "\n",
    "today =str(date.today())\n",
    "print(\"Today's date:\", today)"
   ]
  },
  {
   "cell_type": "code",
   "execution_count": 4,
   "metadata": {},
   "outputs": [],
   "source": [
    "f = open(\"today.txt\", \"a\")\n",
    "f.write(today)\n",
    "f.close()"
   ]
  },
  {
   "cell_type": "markdown",
   "metadata": {},
   "source": [
    "<h5></h5>"
   ]
  },
  {
   "cell_type": "markdown",
   "metadata": {},
   "source": [
    "<h5>2. Read the text file today.txt into the string today_string</h5>"
   ]
  },
  {
   "cell_type": "code",
   "execution_count": 5,
   "metadata": {},
   "outputs": [
    {
     "name": "stdout",
     "output_type": "stream",
     "text": [
      "2022-06-01\n"
     ]
    }
   ],
   "source": [
    "f = open(\"today.txt\", \"r\")\n",
    "print(f.readline())\n",
    "f.close()"
   ]
  },
  {
   "cell_type": "markdown",
   "metadata": {},
   "source": [
    "<h5></h5>"
   ]
  },
  {
   "cell_type": "markdown",
   "metadata": {},
   "source": [
    "<h5>3. Parse the date from today_string.</h5>"
   ]
  },
  {
   "cell_type": "markdown",
   "metadata": {},
   "source": [
    "<h5></h5>"
   ]
  },
  {
   "cell_type": "markdown",
   "metadata": {},
   "source": [
    "<h5>4. List the files in your current directory</h5>"
   ]
  },
  {
   "cell_type": "code",
   "execution_count": 22,
   "metadata": {},
   "outputs": [
    {
     "data": {
      "text/plain": [
       "['.git',\n",
       " '.ipynb_checkpoints',\n",
       " 'books.csv',\n",
       " 'books.db',\n",
       " 'example.csv',\n",
       " 'Python_Assignment01.ipynb',\n",
       " 'Python_Assignment02.ipynb',\n",
       " 'Python_Assignment03.ipynb',\n",
       " 'Python_Assignment04.ipynb',\n",
       " 'Python_Assignment05.ipynb',\n",
       " 'Python_Assignment06.ipynb',\n",
       " 'Python_Assignment07.ipynb',\n",
       " 'Python_Assignment08.ipynb',\n",
       " 'Python_Assignment09.ipynb',\n",
       " 'Python_Assignment10.ipynb',\n",
       " 'Python_Assignment11.ipynb',\n",
       " 'Python_Assignment12.ipynb',\n",
       " 'Python_Assignment13.ipynb',\n",
       " 'Python_Assignment14.ipynb',\n",
       " 'Python_Assignment15.ipynb',\n",
       " 'Python_Assignment16.ipynb',\n",
       " 'Python_Assignment17.ipynb',\n",
       " 'Python_Assignment18.ipynb',\n",
       " 'Python_Assignment19.ipynb',\n",
       " 'Python_Assignment20.ipynb',\n",
       " 'Python_Assignment21.ipynb',\n",
       " 'Python_Assignment22.ipynb',\n",
       " 'test.ipynb',\n",
       " 'test.txt',\n",
       " 'today.txt',\n",
       " 'zoo.py',\n",
       " '__pycache__']"
      ]
     },
     "execution_count": 22,
     "metadata": {},
     "output_type": "execute_result"
    }
   ],
   "source": [
    "dir=list(os. listdir('.'))\n",
    "dir"
   ]
  },
  {
   "cell_type": "markdown",
   "metadata": {},
   "source": [
    "<h5>5. Create a list of all of the files in your parent directory (minimum five files should be available).</h5>"
   ]
  },
  {
   "cell_type": "code",
   "execution_count": 24,
   "metadata": {},
   "outputs": [
    {
     "name": "stdout",
     "output_type": "stream",
     "text": [
      ".git\n",
      ".ipynb_checkpoints\n",
      "books.csv\n",
      "books.db\n",
      "example.csv\n",
      "Python_Assignment01.ipynb\n",
      "Python_Assignment02.ipynb\n",
      "Python_Assignment03.ipynb\n",
      "Python_Assignment04.ipynb\n",
      "Python_Assignment05.ipynb\n",
      "Python_Assignment06.ipynb\n",
      "Python_Assignment07.ipynb\n",
      "Python_Assignment08.ipynb\n",
      "Python_Assignment09.ipynb\n",
      "Python_Assignment10.ipynb\n",
      "Python_Assignment11.ipynb\n",
      "Python_Assignment12.ipynb\n",
      "Python_Assignment13.ipynb\n",
      "Python_Assignment14.ipynb\n",
      "Python_Assignment15.ipynb\n",
      "Python_Assignment16.ipynb\n",
      "Python_Assignment17.ipynb\n",
      "Python_Assignment18.ipynb\n",
      "Python_Assignment19.ipynb\n",
      "Python_Assignment20.ipynb\n",
      "Python_Assignment21.ipynb\n",
      "Python_Assignment22.ipynb\n",
      "test.ipynb\n",
      "test.txt\n",
      "today.txt\n",
      "zoo.py\n",
      "__pycache__\n",
      "<class 'list'>\n"
     ]
    }
   ],
   "source": [
    "dir=list(os. listdir('.'))\n",
    "for i in dir:\n",
    "    print(i)\n",
    "\n",
    "print(type(dir))"
   ]
  },
  {
   "cell_type": "markdown",
   "metadata": {},
   "source": [
    "<h5></h5>"
   ]
  },
  {
   "cell_type": "markdown",
   "metadata": {},
   "source": [
    "<h5>6. Use multiprocessing to create three separate processes. Make each one wait a random number of\n",
    "seconds between one and five, print the current time, and then exit.</h5>"
   ]
  },
  {
   "cell_type": "code",
   "execution_count": 1,
   "metadata": {},
   "outputs": [
    {
     "ename": "AttributeError",
     "evalue": "module 'zoo' has no attribute 'process1'",
     "output_type": "error",
     "traceback": [
      "\u001b[1;31m---------------------------------------------------------------------------\u001b[0m",
      "\u001b[1;31mAttributeError\u001b[0m                            Traceback (most recent call last)",
      "\u001b[1;32mc:\\Users\\anil\\OneDrive\\online course\\python\\Data science with Ineuron\\Assignment\\Python_Assignment21.ipynb Cell 17'\u001b[0m in \u001b[0;36m<cell line: 14>\u001b[1;34m()\u001b[0m\n\u001b[0;32m      <a href='vscode-notebook-cell:/c%3A/Users/anil/OneDrive/online%20course/python/Data%20science%20with%20Ineuron/Assignment/Python_Assignment21.ipynb#ch0000018?line=5'>6</a>\u001b[0m \u001b[39m# def process1():\u001b[39;00m\n\u001b[0;32m      <a href='vscode-notebook-cell:/c%3A/Users/anil/OneDrive/online%20course/python/Data%20science%20with%20Ineuron/Assignment/Python_Assignment21.ipynb#ch0000018?line=6'>7</a>\u001b[0m \u001b[39m#     t1 = random.randint(1,5)\u001b[39;00m\n\u001b[0;32m      <a href='vscode-notebook-cell:/c%3A/Users/anil/OneDrive/online%20course/python/Data%20science%20with%20Ineuron/Assignment/Python_Assignment21.ipynb#ch0000018?line=7'>8</a>\u001b[0m \u001b[39m#     print(\"Waiting for \"+str(t1)+\" seconds\")\u001b[39;00m\n\u001b[0;32m      <a href='vscode-notebook-cell:/c%3A/Users/anil/OneDrive/online%20course/python/Data%20science%20with%20Ineuron/Assignment/Python_Assignment21.ipynb#ch0000018?line=8'>9</a>\u001b[0m \u001b[39m#     time.sleep(t1)\u001b[39;00m\n\u001b[0;32m     <a href='vscode-notebook-cell:/c%3A/Users/anil/OneDrive/online%20course/python/Data%20science%20with%20Ineuron/Assignment/Python_Assignment21.ipynb#ch0000018?line=9'>10</a>\u001b[0m \u001b[39m#     print(datetime.datetime.now())\u001b[39;00m\n\u001b[0;32m     <a href='vscode-notebook-cell:/c%3A/Users/anil/OneDrive/online%20course/python/Data%20science%20with%20Ineuron/Assignment/Python_Assignment21.ipynb#ch0000018?line=12'>13</a>\u001b[0m start \u001b[39m=\u001b[39m time\u001b[39m.\u001b[39mtime()\n\u001b[1;32m---> <a href='vscode-notebook-cell:/c%3A/Users/anil/OneDrive/online%20course/python/Data%20science%20with%20Ineuron/Assignment/Python_Assignment21.ipynb#ch0000018?line=13'>14</a>\u001b[0m process1 \u001b[39m=\u001b[39m zoo\u001b[39m.\u001b[39;49mprocess1()\n\u001b[0;32m     <a href='vscode-notebook-cell:/c%3A/Users/anil/OneDrive/online%20course/python/Data%20science%20with%20Ineuron/Assignment/Python_Assignment21.ipynb#ch0000018?line=14'>15</a>\u001b[0m process2 \u001b[39m=\u001b[39m zoo\u001b[39m.\u001b[39mprocess1()\n\u001b[0;32m     <a href='vscode-notebook-cell:/c%3A/Users/anil/OneDrive/online%20course/python/Data%20science%20with%20Ineuron/Assignment/Python_Assignment21.ipynb#ch0000018?line=15'>16</a>\u001b[0m process3 \u001b[39m=\u001b[39m zoo\u001b[39m.\u001b[39mprocess1()\n",
      "\u001b[1;31mAttributeError\u001b[0m: module 'zoo' has no attribute 'process1'"
     ]
    }
   ],
   "source": [
    "# 6) Use multiprocessing to create three separate processes. Make each one wait a random number \n",
    "# of seconds between one and five, print the current time, and then exit. \n",
    "import multiprocessing,time,datetime\n",
    "import zoo \n",
    "\n",
    "# def process1():\n",
    "#     t1 = random.randint(1,5)\n",
    "#     print(\"Waiting for \"+str(t1)+\" seconds\")\n",
    "#     time.sleep(t1)\n",
    "#     print(datetime.datetime.now())\n",
    "\n",
    "\n",
    "start = time.time()\n",
    "process1 = zoo.process1()\n",
    "process2 = zoo.process1()\n",
    "process3 = zoo.process1()\n",
    "\n",
    "print(datetime.datetime.now())\n",
    "if __name__==\"__main__\":\n",
    "    \n",
    "    \n",
    "    \n",
    "    p1 = multiprocessing.Process(target=process1)\n",
    "    p2 = multiprocessing.Process(target=process2)\n",
    "    p3 = multiprocessing.Process(target=process3)\n",
    "\n",
    "    p1.start()\n",
    "    p2.start()\n",
    "    p3.start()\n",
    "\n",
    "    p1.join()\n",
    "    p2.join()\n",
    "    p3.join()\n",
    "\n",
    "end = time.time()\n",
    "    \n",
    "\n",
    "print(\"It takes \" +str(end-start)+\" seconds\")"
   ]
  },
  {
   "cell_type": "markdown",
   "metadata": {},
   "source": [
    "<h5>7. Create a date object of your day of birth.</h5>\n"
   ]
  },
  {
   "cell_type": "code",
   "execution_count": 2,
   "metadata": {},
   "outputs": [],
   "source": [
    "dob=1996-11-20"
   ]
  },
  {
   "cell_type": "markdown",
   "metadata": {},
   "source": [
    "<h5>8. What day of the week was your day of birth?</h5>"
   ]
  },
  {
   "cell_type": "code",
   "execution_count": 8,
   "metadata": {},
   "outputs": [
    {
     "name": "stdout",
     "output_type": "stream",
     "text": [
      "Wednesday\n"
     ]
    }
   ],
   "source": [
    "\n",
    "# Python program to Find day of\n",
    "# the week for a given date\n",
    "import datetime\n",
    "import calendar\n",
    " \n",
    "def findDay(date):\n",
    "    born = datetime.datetime.strptime(date, '%d %m %Y').weekday()\n",
    "    return (calendar.day_name[born])\n",
    " \n",
    "# Driver program\n",
    "date = '20 11 1996'\n",
    "print(findDay(date))"
   ]
  },
  {
   "cell_type": "markdown",
   "metadata": {},
   "source": [
    "<h5>9. When will you be (or when were you) 10,000 days old?</h5>"
   ]
  },
  {
   "cell_type": "code",
   "execution_count": 9,
   "metadata": {},
   "outputs": [
    {
     "name": "stdout",
     "output_type": "stream",
     "text": [
      "2024-04-07\n"
     ]
    }
   ],
   "source": [
    "import datetime\n",
    "\n",
    "start_date = datetime.datetime(year=1996, month=11, day=20)\n",
    "\n",
    "end_date = start_date + datetime.timedelta(days=10000)\n",
    "\n",
    "print(end_date.date())"
   ]
  },
  {
   "cell_type": "markdown",
   "metadata": {},
   "source": []
  }
 ],
 "metadata": {
  "interpreter": {
   "hash": "26de051ba29f2982a8de78e945f0abaf191376122a1563185a90213a26c5da77"
  },
  "kernelspec": {
   "display_name": "Python 3.10.4 64-bit",
   "language": "python",
   "name": "python3"
  },
  "language_info": {
   "codemirror_mode": {
    "name": "ipython",
    "version": 3
   },
   "file_extension": ".py",
   "mimetype": "text/x-python",
   "name": "python",
   "nbconvert_exporter": "python",
   "pygments_lexer": "ipython3",
   "version": "3.10.4"
  },
  "orig_nbformat": 4
 },
 "nbformat": 4,
 "nbformat_minor": 2
}
